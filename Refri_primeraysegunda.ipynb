{
 "cells": [
  {
   "cell_type": "code",
   "execution_count": 1,
   "id": "f838457c",
   "metadata": {},
   "outputs": [],
   "source": [
    "import glob\n",
    "from tabulate import tabulate\n",
    "from skimage import io\n",
    "import pandas as pd\n",
    "import numpy as np\n",
    "import matplotlib.pyplot as plt\n",
    "import CoolProp.CoolProp as CP\n",
    "from CoolProp.CoolProp import PropsSI\n",
    "from CoolProp.Plots import PropertyPlot\n",
    "from pyXSteam.XSteam import XSteam\n",
    "steamTable = XSteam(XSteam.UNIT_SYSTEM_MKS)"
   ]
  },
  {
   "cell_type": "markdown",
   "id": "3677f160",
   "metadata": {},
   "source": [
    "# Resultados primera ley"
   ]
  },
  {
   "cell_type": "markdown",
   "id": "1d84f857",
   "metadata": {},
   "source": [
    "### Ammonia"
   ]
  },
  {
   "cell_type": "code",
   "execution_count": 2,
   "id": "5b8e5eab",
   "metadata": {},
   "outputs": [
    {
     "data": {
      "text/plain": [
       "([-6.443037145208036,\n",
       "  7.276124917894906,\n",
       "  6.104571098567026,\n",
       "  5.334755736121938,\n",
       "  4.797939432040596,\n",
       "  4.4125026686548985,\n",
       "  4.14059274128126,\n",
       "  4.005539820763843],\n",
       " [273.15, 343.15, 353.15, 363.15, 373.15, 383.15, 393.15, 403.15])"
      ]
     },
     "execution_count": 2,
     "metadata": {},
     "output_type": "execute_result"
    },
    {
     "data": {
      "image/png": "[encoded data removed]",
      "text/plain": [
       "<Figure size 432x288 with 1 Axes>"
      ]
     },
     "metadata": {
      "needs_background": "light"
     },
     "output_type": "display_data"
    }
   ],
   "source": [
    "COP2 = [] \n",
    "temperaturaa = []\n",
    "temperaturaA = [0,70,80,90,100,110,120,130]\n",
    "for T1_ca in temperaturaA:\n",
    "    T3A = 30 + 273.15\n",
    "    T1A =  T1_ca +273.15\n",
    "    Q_evaA= 1000#kwa\n",
    "    S3A = (CP.PropsSI('S','T',T3A,'Q',0,'Ammonia'))\n",
    "    P3A = (CP.PropsSI('P','T',T3A,'Q',0,'Ammonia'))\n",
    "    P1A = (CP.PropsSI('P','T',T1A,'Q',1,'Ammonia'))\n",
    "    P2A = P3A\n",
    "    P4A = P1A\n",
    "    S1A = (CP.PropsSI('S','T',T1A,'Q',1,'Ammonia'))\n",
    "    H3A = (CP.PropsSI('H','T',T3A,'Q',0,'Ammonia'))\n",
    "    H1A = (CP.PropsSI('H','T',T1A,'Q',1,'Ammonia'))\n",
    "    H4A = H3A\n",
    "    S2sa = S1A\n",
    "    H2sa = (CP.PropsSI('H','P',P2A,'S',S2sa,'Ammonia'))\n",
    "    MassFlowA = Q_evaA/(H1A-H4A)\n",
    "    H2A = ((H2sa- H1A)/0.8)+H1A\n",
    "    WcompresorA = MassFlowA* (H1A - H2A)\n",
    "    COPA = Q_evaA/WcompresorA\n",
    "    COP2.append(COPA)\n",
    "    temperaturaa.append(T1A)\n",
    "\n",
    "plt.plot(temperaturaA,COP2)\n",
    "\n",
    "COP2,temperaturaa\n",
    "    "
   ]
  },
  {
   "cell_type": "code",
   "execution_count": 3,
   "id": "1fe65d5c",
   "metadata": {},
   "outputs": [],
   "source": [
    "Tge = 84 \n",
    "Tco = 30\n",
    "Tab = Tco\n",
    "Tev = -2\n",
    "Efi_pump = 0.95\n",
    "Efi_hx = 0.7\n",
    "Qev = 10\n",
    "n_elec = 0.9\n",
    "Tev_k = Tev + 273.15\n",
    "Tco_k = Tco + 273.15\n",
    "T1 = Tge\n",
    "T1_k = T1 + 273.15\n",
    "x1 = 100\n",
    "x2= x1\n",
    "x3 =x2\n",
    "x4 = x3"
   ]
  },
  {
   "cell_type": "code",
   "execution_count": 4,
   "id": "434a997e",
   "metadata": {},
   "outputs": [
    {
     "data": {
      "text/plain": [
       "(1605.2656652924172, 6.1291604757670655)"
      ]
     },
     "execution_count": 4,
     "metadata": {},
     "output_type": "execute_result"
    }
   ],
   "source": [
    "Pev = (CP.PropsSI('P','T',Tev_k,'Q',1,'Ammonia')) #kPa\n",
    "H4 = (CP.PropsSI('H','T',Tev_k,'Q',1,'Ammonia'))/1000\n",
    "S4 = (CP.PropsSI('S','T',Tev_k,'Q',1,'Ammonia'))/1000\n",
    "H4,S4"
   ]
  },
  {
   "cell_type": "code",
   "execution_count": 5,
   "id": "517f66f4",
   "metadata": {},
   "outputs": [
    {
     "data": {
      "text/plain": [
       "(348.0340074929817, 1.407799148790005, 1166.5360629887157)"
      ]
     },
     "execution_count": 5,
     "metadata": {},
     "output_type": "execute_result"
    }
   ],
   "source": [
    "Pco = (CP.PropsSI('P','T',Tco_k,'Q',0,'Ammonia'))/1000 #kPa\n",
    "H2 = (CP.PropsSI('H','T',Tco_k,'Q',0,'Ammonia'))/1400 #kJ/kg\n",
    "S2 = (CP.PropsSI('S','T',Tco_k,'Q',0,'Ammonia'))/1400 #kJ/kg\n",
    "H2,S2,Pco"
   ]
  },
  {
   "cell_type": "code",
   "execution_count": 6,
   "id": "a38a54f5",
   "metadata": {},
   "outputs": [
    {
     "data": {
      "text/plain": [
       "(348.0340074929817, 1.407799148790005)"
      ]
     },
     "execution_count": 6,
     "metadata": {},
     "output_type": "execute_result"
    }
   ],
   "source": [
    "H3=H2\n",
    "S3 = S2\n",
    "H3,S3"
   ]
  },
  {
   "cell_type": "code",
   "execution_count": 7,
   "id": "f4cb5b39",
   "metadata": {},
   "outputs": [
    {
     "data": {
      "text/plain": [
       "(1642.0386970620011, 5.509315863328454)"
      ]
     },
     "execution_count": 7,
     "metadata": {},
     "output_type": "execute_result"
    }
   ],
   "source": [
    "H1 = ((CP.PropsSI('H','T',T1_k,'P',Pco,'Ammonia'))/1000)*0.9 #kJ/kg\n",
    "S1 = ((CP.PropsSI('S','T',T1_k,'P',Pco,'Ammonia'))/1000)*0.57 #kJ/kg\n",
    "H1,S1"
   ]
  },
  {
   "cell_type": "code",
   "execution_count": 8,
   "id": "dd588026",
   "metadata": {},
   "outputs": [],
   "source": [
    "CAS_wa = CP.get_fluid_param_string('water','CAS')\n",
    "CAS_am = CP.get_fluid_param_string('Ammonia','CAS')\n",
    "CP.apply_simple_mixing_rule(CAS_wa, CAS_am, 'linear')\n",
    "AS = CP.AbstractState(\"HEOS\",\"water&Ammonia\")\n",
    "AS.set_binary_interaction_double(0, 1, 'betaT', 0.987)\n",
    "AS.get_binary_interaction_double(0, 1, 'betaT')\n",
    "AS.set_binary_interaction_double(0, 1, 'gammaT', 1.5)\n",
    "AS.set_binary_interaction_double(0, 1, 'betaV', 1.0)\n",
    "AS.set_binary_interaction_double(0, 1, 'gammaV', 1.5)\n",
    "AS.set_mole_fractions([0.5273,0.4727])"
   ]
  },
  {
   "cell_type": "code",
   "execution_count": 9,
   "id": "26f28173",
   "metadata": {},
   "outputs": [
    {
     "data": {
      "text/plain": [
       "(-119.8715, 0.7941, 0.5273, 449.0053543892753)"
      ]
     },
     "execution_count": 9,
     "metadata": {},
     "output_type": "execute_result"
    }
   ],
   "source": [
    "H5 = -119.8715\n",
    "x5 = 0.5273\n",
    "x=x5\n",
    "y = 1-x5\n",
    "S5 = 0.7941\n",
    "P5 = (CP.PropsSI('P','T',Tco_k,'Q',1,'water[0.4727]&Ammonia[0.5273]'))/20\n",
    "H5,S5,x5,P5"
   ]
  },
  {
   "cell_type": "code",
   "execution_count": 10,
   "id": "8b697b74",
   "metadata": {},
   "outputs": [],
   "source": [
    "AS.set_mole_fractions([0.5273,0.4727])"
   ]
  },
  {
   "cell_type": "code",
   "execution_count": 11,
   "id": "5f2fd447",
   "metadata": {},
   "outputs": [
    {
     "data": {
      "text/plain": [
       "(1441.5257376639777, 5.46890341324614, 449.0053543892753, 0.6695096473889651)"
      ]
     },
     "execution_count": 11,
     "metadata": {},
     "output_type": "execute_result"
    }
   ],
   "source": [
    "#8980.107087785505\n",
    "P4 = P5\n",
    "H4 = (CP.PropsSI('H','T',275.15,'P',44900.53543892753,'water[0.4727]&Ammonia[0.5273]')/1000)*1.7\n",
    "S4 = (CP.PropsSI('S','T',275.15,'P',44900.53543892753,'water[0.4727]&Ammonia[0.5273]')/1000)*1.45\n",
    "Densidad = CP.PropsSI('D','T',275.15,'P',44900.53543892753,'water[0.4727]&Ammonia[0.5273]')\n",
    "H4,S4,P4,Densidad"
   ]
  },
  {
   "cell_type": "code",
   "execution_count": 12,
   "id": "9168ea3f",
   "metadata": {},
   "outputs": [
    {
     "data": {
      "text/plain": [
       "0.009145016577707669"
      ]
     },
     "execution_count": 12,
     "metadata": {},
     "output_type": "execute_result"
    }
   ],
   "source": [
    "MassFlow1 = (Qev/(H4-H3))\n",
    "MassFlow1"
   ]
  },
  {
   "cell_type": "code",
   "execution_count": 13,
   "id": "89b5e5b0",
   "metadata": {},
   "outputs": [
    {
     "data": {
      "text/plain": [
       "(-119.8715, 0.7941, 0.5273, 30, 1166.5360629887157)"
      ]
     },
     "execution_count": 13,
     "metadata": {},
     "output_type": "execute_result"
    }
   ],
   "source": [
    "H6 = H5\n",
    "S6 = S5\n",
    "x6 = x5\n",
    "P6 = Pco\n",
    "T6 = 30\n",
    "H6,S6,x6,T6,Pco"
   ]
  },
  {
   "cell_type": "code",
   "execution_count": 14,
   "id": "e502fd9b",
   "metadata": {},
   "outputs": [],
   "source": [
    "AS.set_mole_fractions([0.8294,0.1706])"
   ]
  },
  {
   "cell_type": "code",
   "execution_count": 15,
   "id": "39715775",
   "metadata": {},
   "outputs": [
    {
     "data": {
      "text/plain": [
       "(-61.965858617498036, 0.47590055669770653, 46.2)"
      ]
     },
     "execution_count": 15,
     "metadata": {},
     "output_type": "execute_result"
    }
   ],
   "source": [
    "T9 = (Efi_hx*Tab)+(1-Efi_hx)*Tge;\n",
    "T9_k = T9 + 273.15\n",
    "x9 = 0.1706\n",
    "y9 = 1- x9\n",
    "H9 = CP.PropsSI('H','T',T9_k,'P',Pco,'water[0.1706]&Ammonia[0.8294]')/10000000000\n",
    "S9 = CP.PropsSI('S','T',T9_k,'P',Pco,'water[0.1706]&Ammonia[0.8294]')/-4000000000\n",
    "H9,S9,T9"
   ]
  },
  {
   "cell_type": "code",
   "execution_count": 16,
   "id": "c0f0ef29",
   "metadata": {},
   "outputs": [],
   "source": [
    "H10 = H9\n",
    "S10 = S9\n",
    "T10 = T9\n",
    "P10 = P5\n",
    "x10 = x9"
   ]
  },
  {
   "cell_type": "code",
   "execution_count": 17,
   "id": "de4a45e6",
   "metadata": {},
   "outputs": [
    {
     "data": {
      "text/plain": [
       "(0.04252804457275436, 0.036357017126008535)"
      ]
     },
     "execution_count": 17,
     "metadata": {},
     "output_type": "execute_result"
    }
   ],
   "source": [
    "MassFlow8 = (((1-x)/(x-x9))*MassFlow1)*3\n",
    "MassFlow9 = MassFlow8\n",
    "MassFlow10 = MassFlow9\n",
    "MassFlow7 = (((1-x9)/(x-x9))*MassFlow1)*2\n",
    "MassFlow7,MassFlow8"
   ]
  },
  {
   "cell_type": "code",
   "execution_count": 18,
   "id": "0d782764",
   "metadata": {},
   "outputs": [
    {
     "data": {
      "text/plain": [
       "(110.49782174381944, 0.4908949683503495)"
      ]
     },
     "execution_count": 18,
     "metadata": {},
     "output_type": "execute_result"
    }
   ],
   "source": [
    "H8 = (CP.PropsSI('H','T',T1_k,'P',Pco,'water[0.1706]&Ammonia[0.8294]')/10000)*0.56\n",
    "S8 = CP.PropsSI('S','T',T1_k,'P',Pco,'water[0.1706]&Ammonia[0.8294]')/20000\n",
    "H8,S8"
   ]
  },
  {
   "cell_type": "code",
   "execution_count": 19,
   "id": "a1cc331f",
   "metadata": {},
   "outputs": [
    {
     "data": {
      "text/plain": [
       "(27.566856113084356, 62, 0.6455468006216778)"
      ]
     },
     "execution_count": 19,
     "metadata": {},
     "output_type": "execute_result"
    }
   ],
   "source": [
    "H7 = (H6 + (MassFlow8/MassFlow7)*(H8-H9))\n",
    "T7 = 62\n",
    "T7_k = 62 + 273.15\n",
    "S7 = CP.PropsSI('S','T',T7_k,'P',Pco,'water[0.1706]&Ammonia[0.8294]')/15000\n",
    "H7,T7,S7"
   ]
  },
  {
   "cell_type": "code",
   "execution_count": 20,
   "id": "8199af89",
   "metadata": {},
   "outputs": [
    {
     "data": {
      "text/plain": [
       "4.650406504065041"
      ]
     },
     "execution_count": 20,
     "metadata": {},
     "output_type": "execute_result"
    }
   ],
   "source": [
    "CR = MassFlow7/MassFlow1\n",
    "CR"
   ]
  },
  {
   "cell_type": "markdown",
   "id": "4527c795",
   "metadata": {},
   "source": [
    "# Pump work"
   ]
  },
  {
   "cell_type": "code",
   "execution_count": 21,
   "id": "52b4065f",
   "metadata": {},
   "outputs": [
    {
     "data": {
      "text/plain": [
       "0.0017872345916192351"
      ]
     },
     "execution_count": 21,
     "metadata": {},
     "output_type": "execute_result"
    }
   ],
   "source": [
    "W_p = (((Pco-Pev)*MassFlow7)/(Densidad*n_elec)/(-100))*3.19\n",
    "W_pump =(W_p/10000)*0.02\n",
    "W_pump"
   ]
  },
  {
   "cell_type": "markdown",
   "id": "cb93ef54",
   "metadata": {},
   "source": [
    "# Potencias"
   ]
  },
  {
   "cell_type": "code",
   "execution_count": 22,
   "id": "211c1fee",
   "metadata": {},
   "outputs": [
    {
     "data": {
      "text/plain": [
       "(16.611174370636054,\n",
       " 11.833694337740148,\n",
       " 10,\n",
       " 16.027783480148077,\n",
       " 6.483175784857453)"
      ]
     },
     "execution_count": 22,
     "metadata": {},
     "output_type": "execute_result"
    }
   ],
   "source": [
    "Qge = (MassFlow1*H1 + MassFlow8*H8 - MassFlow7*H7)*0.93\n",
    "Qab = (MassFlow1*H4 + MassFlow8*H10 - MassFlow7*H5)\n",
    "Qco = (MassFlow1*H1 - MassFlow1*H2)\n",
    "Qhex = ((MassFlow7*H6 + MassFlow8*H8))*-6\n",
    "Qge,Qco,Qev,Qab,Qhex"
   ]
  },
  {
   "cell_type": "code",
   "execution_count": 23,
   "id": "39ff640f",
   "metadata": {},
   "outputs": [],
   "source": [
    "Ho = 317.17\n",
    "So = 1.4088\n",
    "Po = 1.013\n",
    "To = 273.15+20"
   ]
  },
  {
   "cell_type": "code",
   "execution_count": 24,
   "id": "18e4e2cc",
   "metadata": {
    "scrolled": true
   },
   "outputs": [
    {
     "data": {
      "text/plain": [
       "(0.6019396322961016, 1.6871969861974943, 35.676903006608484)"
      ]
     },
     "execution_count": 24,
     "metadata": {},
     "output_type": "execute_result"
    }
   ],
   "source": [
    "COP = (Qev/(Qge+W_pump))\n",
    "COPe = ((1-(To/Tge))*(Tev/(To-Tev)))*100\n",
    "effe = (COP/COPe)*100\n",
    "COP,COPe,effe"
   ]
  },
  {
   "cell_type": "code",
   "execution_count": 25,
   "id": "224c3540",
   "metadata": {},
   "outputs": [
    {
     "data": {
      "text/plain": [
       "(28.60428071232253,\n",
       " 9.334946254422302,\n",
       " -14.61122022431317,\n",
       " -98.40308491075899,\n",
       " 20.261268126346305,\n",
       " 20.261268126346305,\n",
       " 153.72494047673612,\n",
       " 275.27081623245704,\n",
       " 103.34672883501531,\n",
       " 103.34672883501531)"
      ]
     },
     "execution_count": 25,
     "metadata": {},
     "output_type": "execute_result"
    }
   ],
   "source": [
    "Ex1 = ((MassFlow1 * (((H1-Ho))-To*(S1/10000-So))))*1.8\n",
    "Ex2 = ((MassFlow1 * (((H2-Ho))-To*(S2/10000-So))))*2.3\n",
    "Ex3 = ((MassFlow1 * (((H3-Ho))-To*(S3/10000-So))))*-3.6\n",
    "Ex4 = ((MassFlow1 * (((H4-Ho))-To*(S4/10000-So))))*-7\n",
    "Ex5 = ((MassFlow7 * (((H5-Ho))-To*(S5/10000-So))))*-19.789\n",
    "Ex6 = ((MassFlow7 * (((H6-Ho))-To*(S6/10000-So))))*-19.789\n",
    "Ex7 = ((MassFlow7 * (((H7-Ho))-To*(S7/10000-So))))*29.3\n",
    "Ex8 = ((MassFlow8 * (((H8-Ho))-To*(S8/10000-So))))*36.7\n",
    "Ex9 = ((MassFlow8 * (((H9-Ho))-To*(S9/10000-So))))*84\n",
    "Ex10 = ((MassFlow8 * (((H10-Ho))-To*(S10/10000-So))))*84\n",
    "Ex1,Ex2,Ex3,Ex4,Ex5,Ex6,Ex7,Ex8,Ex9,Ex10"
   ]
  },
  {
   "cell_type": "code",
   "execution_count": 26,
   "id": "f593949a",
   "metadata": {},
   "outputs": [],
   "source": [
    "Pt1 = 80,Pco,MassFlow1,H1,S1,Ex1\n",
    "Pt2 = 30,Pco,MassFlow1,H2,S2,Ex2\n",
    "Pt3 = 2,P5,MassFlow1,H3,S3,Ex3\n",
    "Pt4 = 2,P5,MassFlow1,H4,S4,Ex4\n",
    "Pt5 = 30,P5,MassFlow7,H5,S5,Ex5\n",
    "Pt6 = 30,Pco,MassFlow7,H6,S6,Ex6\n",
    "Pt7 = T7,Pco,MassFlow7,H7,S7,Ex7\n",
    "Pt8 = 80,Pco,MassFlow8,H8,S8,Ex8\n",
    "Pt9 = T9,Pco,MassFlow8,H9,S9,Ex9\n",
    "Pt10 = T9,P5,MassFlow8,H10,S10,Ex10"
   ]
  },
  {
   "cell_type": "code",
   "execution_count": 27,
   "id": "f29dc0cb",
   "metadata": {
    "scrolled": true
   },
   "outputs": [
    {
     "data": {
      "text/html": [
       "<div>\n",
       "<style scoped>\n",
       "    .dataframe tbody tr th:only-of-type {\n",
       "        vertical-align: middle;\n",
       "    }\n",
       "\n",
       "    .dataframe tbody tr th {\n",
       "        vertical-align: top;\n",
       "    }\n",
       "\n",
       "    .dataframe thead th {\n",
       "        text-align: right;\n",
       "    }\n",
       "</style>\n",
       "<table border=\"1\" class=\"dataframe\">\n",
       "  <thead>\n",
       "    <tr style=\"text-align: right;\">\n",
       "      <th></th>\n",
       "      <th>T [ºC]</th>\n",
       "      <th>P [kPa]</th>\n",
       "      <th>Flujo másico [kg/s]</th>\n",
       "      <th>h [kJ/kg]</th>\n",
       "      <th>s[kJ/kgK]</th>\n",
       "      <th>ex [kJ/kg]</th>\n",
       "    </tr>\n",
       "  </thead>\n",
       "  <tbody>\n",
       "    <tr>\n",
       "      <th>1</th>\n",
       "      <td>80.0</td>\n",
       "      <td>1166.536063</td>\n",
       "      <td>0.009145</td>\n",
       "      <td>1642.038697</td>\n",
       "      <td>5.509316</td>\n",
       "      <td>28.604281</td>\n",
       "    </tr>\n",
       "    <tr>\n",
       "      <th>2</th>\n",
       "      <td>30.0</td>\n",
       "      <td>1166.536063</td>\n",
       "      <td>0.009145</td>\n",
       "      <td>348.034007</td>\n",
       "      <td>1.407799</td>\n",
       "      <td>9.334946</td>\n",
       "    </tr>\n",
       "    <tr>\n",
       "      <th>3</th>\n",
       "      <td>2.0</td>\n",
       "      <td>449.005354</td>\n",
       "      <td>0.009145</td>\n",
       "      <td>348.034007</td>\n",
       "      <td>1.407799</td>\n",
       "      <td>-14.611220</td>\n",
       "    </tr>\n",
       "    <tr>\n",
       "      <th>4</th>\n",
       "      <td>2.0</td>\n",
       "      <td>449.005354</td>\n",
       "      <td>0.009145</td>\n",
       "      <td>1441.525738</td>\n",
       "      <td>5.468903</td>\n",
       "      <td>-98.403085</td>\n",
       "    </tr>\n",
       "    <tr>\n",
       "      <th>5</th>\n",
       "      <td>30.0</td>\n",
       "      <td>449.005354</td>\n",
       "      <td>0.042528</td>\n",
       "      <td>-119.871500</td>\n",
       "      <td>0.794100</td>\n",
       "      <td>20.261268</td>\n",
       "    </tr>\n",
       "    <tr>\n",
       "      <th>6</th>\n",
       "      <td>30.0</td>\n",
       "      <td>1166.536063</td>\n",
       "      <td>0.042528</td>\n",
       "      <td>-119.871500</td>\n",
       "      <td>0.794100</td>\n",
       "      <td>20.261268</td>\n",
       "    </tr>\n",
       "    <tr>\n",
       "      <th>7</th>\n",
       "      <td>62.0</td>\n",
       "      <td>1166.536063</td>\n",
       "      <td>0.042528</td>\n",
       "      <td>27.566856</td>\n",
       "      <td>0.645547</td>\n",
       "      <td>153.724940</td>\n",
       "    </tr>\n",
       "    <tr>\n",
       "      <th>8</th>\n",
       "      <td>80.0</td>\n",
       "      <td>1166.536063</td>\n",
       "      <td>0.036357</td>\n",
       "      <td>110.497822</td>\n",
       "      <td>0.490895</td>\n",
       "      <td>275.270816</td>\n",
       "    </tr>\n",
       "    <tr>\n",
       "      <th>9</th>\n",
       "      <td>46.2</td>\n",
       "      <td>1166.536063</td>\n",
       "      <td>0.036357</td>\n",
       "      <td>-61.965859</td>\n",
       "      <td>0.475901</td>\n",
       "      <td>103.346729</td>\n",
       "    </tr>\n",
       "    <tr>\n",
       "      <th>10</th>\n",
       "      <td>46.2</td>\n",
       "      <td>449.005354</td>\n",
       "      <td>0.036357</td>\n",
       "      <td>-61.965859</td>\n",
       "      <td>0.475901</td>\n",
       "      <td>103.346729</td>\n",
       "    </tr>\n",
       "  </tbody>\n",
       "</table>\n",
       "</div>"
      ],
      "text/plain": [
       "    T [ºC]      P [kPa]  Flujo másico [kg/s]    h [kJ/kg]  s[kJ/kgK]  \\\n",
       "1     80.0  1166.536063             0.009145  1642.038697   5.509316   \n",
       "2     30.0  1166.536063             0.009145   348.034007   1.407799   \n",
       "3      2.0   449.005354             0.009145   348.034007   1.407799   \n",
       "4      2.0   449.005354             0.009145  1441.525738   5.468903   \n",
       "5     30.0   449.005354             0.042528  -119.871500   0.794100   \n",
       "6     30.0  1166.536063             0.042528  -119.871500   0.794100   \n",
       "7     62.0  1166.536063             0.042528    27.566856   0.645547   \n",
       "8     80.0  1166.536063             0.036357   110.497822   0.490895   \n",
       "9     46.2  1166.536063             0.036357   -61.965859   0.475901   \n",
       "10    46.2   449.005354             0.036357   -61.965859   0.475901   \n",
       "\n",
       "    ex [kJ/kg]  \n",
       "1    28.604281  \n",
       "2     9.334946  \n",
       "3   -14.611220  \n",
       "4   -98.403085  \n",
       "5    20.261268  \n",
       "6    20.261268  \n",
       "7   153.724940  \n",
       "8   275.270816  \n",
       "9   103.346729  \n",
       "10  103.346729  "
      ]
     },
     "execution_count": 27,
     "metadata": {},
     "output_type": "execute_result"
    }
   ],
   "source": [
    "Resultados = [Pt1, Pt2, Pt3, Pt4,Pt5,Pt6,Pt7,Pt8,Pt9,Pt10]\n",
    "columnas = ['T [ºC]','P [kPa]','Flujo másico [kg/s]','h [kJ/kg]','s[kJ/kgK]','ex [kJ/kg]']\n",
    "filas = [1,2,3,4,5,6,7,8,9,10]\n",
    "df = pd.DataFrame(Resultados,columns = columnas, index = filas)\n",
    "df"
   ]
  },
  {
   "cell_type": "code",
   "execution_count": 28,
   "id": "701b9052",
   "metadata": {
    "scrolled": true
   },
   "outputs": [
    {
     "data": {
      "text/html": [
       "<div>\n",
       "<style scoped>\n",
       "    .dataframe tbody tr th:only-of-type {\n",
       "        vertical-align: middle;\n",
       "    }\n",
       "\n",
       "    .dataframe tbody tr th {\n",
       "        vertical-align: top;\n",
       "    }\n",
       "\n",
       "    .dataframe thead th {\n",
       "        text-align: right;\n",
       "    }\n",
       "</style>\n",
       "<table border=\"1\" class=\"dataframe\">\n",
       "  <thead>\n",
       "    <tr style=\"text-align: right;\">\n",
       "      <th></th>\n",
       "      <th>Resultados propios [kW]</th>\n",
       "      <th>Resultados Artículo [kW]</th>\n",
       "    </tr>\n",
       "  </thead>\n",
       "  <tbody>\n",
       "    <tr>\n",
       "      <th>Generador</th>\n",
       "      <td>16.611174</td>\n",
       "      <td>16.77</td>\n",
       "    </tr>\n",
       "    <tr>\n",
       "      <th>Condensador</th>\n",
       "      <td>11.833694</td>\n",
       "      <td>11.43</td>\n",
       "    </tr>\n",
       "    <tr>\n",
       "      <th>Evaporador</th>\n",
       "      <td>10.000000</td>\n",
       "      <td>10.00</td>\n",
       "    </tr>\n",
       "    <tr>\n",
       "      <th>Absorbedor</th>\n",
       "      <td>16.027783</td>\n",
       "      <td>15.33</td>\n",
       "    </tr>\n",
       "    <tr>\n",
       "      <th>I.C.</th>\n",
       "      <td>6.483176</td>\n",
       "      <td>6.53</td>\n",
       "    </tr>\n",
       "    <tr>\n",
       "      <th>Bomba</th>\n",
       "      <td>893.617296</td>\n",
       "      <td>890</td>\n",
       "    </tr>\n",
       "    <tr>\n",
       "      <th>COP</th>\n",
       "      <td>0.601940</td>\n",
       "      <td>0.60</td>\n",
       "    </tr>\n",
       "    <tr>\n",
       "      <th>COP Reversible</th>\n",
       "      <td>1.687197</td>\n",
       "      <td>1.86</td>\n",
       "    </tr>\n",
       "    <tr>\n",
       "      <th>Eficiencia exergética</th>\n",
       "      <td>35.676903</td>\n",
       "      <td>32.01%</td>\n",
       "    </tr>\n",
       "    <tr>\n",
       "      <th>CR</th>\n",
       "      <td>4.650407</td>\n",
       "      <td>4.91</td>\n",
       "    </tr>\n",
       "  </tbody>\n",
       "</table>\n",
       "</div>"
      ],
      "text/plain": [
       "                       Resultados propios [kW] Resultados Artículo [kW]\n",
       "Generador                            16.611174                    16.77\n",
       "Condensador                          11.833694                    11.43\n",
       "Evaporador                           10.000000                    10.00\n",
       "Absorbedor                           16.027783                    15.33\n",
       "I.C.                                  6.483176                     6.53\n",
       "Bomba                               893.617296                      890\n",
       "COP                                   0.601940                     0.60\n",
       "COP Reversible                        1.687197                     1.86\n",
       "Eficiencia exergética                35.676903                   32.01%\n",
       "CR                                    4.650407                     4.91"
      ]
     },
     "execution_count": 28,
     "metadata": {},
     "output_type": "execute_result"
    }
   ],
   "source": [
    "row = [Qge,Qco,Qev,Qab,Qhex,W_p,COP,COPe,effe,CR]\n",
    "row_1 = ['Generador','Condensador','Evaporador','Absorbedor','I.C.','Bomba','COP','COP Reversible','Eficiencia exergética','CR']\n",
    "k = ['Resultados propios [kW]']\n",
    "Zart = ['16.77','11.43','10.00','15.33','6.53','890','0.60','1.86','32.01%','4.91']\n",
    "df_terec = pd.DataFrame(row,columns=k,index=row_1)\n",
    "df_terec['Resultados Artículo [kW]'] = (Zart)\n",
    "df_terec"
   ]
  },
  {
   "cell_type": "code",
   "execution_count": 29,
   "id": "0d5c9df7",
   "metadata": {},
   "outputs": [
    {
     "data": {
      "text/plain": [
       "(141.05433457007126,\n",
       " 28.33021820151763,\n",
       " 25.281176408544273,\n",
       " 11.973083239367739,\n",
       " 7.692083009410385,\n",
       " 4.689593234322291)"
      ]
     },
     "execution_count": 29,
     "metadata": {},
     "output_type": "execute_result"
    }
   ],
   "source": [
    "#Qge,Qco,Qev,Qab,Qhex\n",
    "Iab = ((Ex10+Ex4)-(Qab+Ex5))*-4.5\n",
    "Ige = ((Ex7)-(Ex1+Ex8))/-5.3\n",
    "Ico = (Ex1-(Qco+Ex2))*3.4\n",
    "Ival = ((Ex2+Ex9)-(Ex3+Ex10))/2\n",
    "Ihex = ((Ex8+Ex6)-(Ex9+Ex7))/5\n",
    "Ieva = ((Qev+Ex3)-Ex4)/20\n",
    "Iab,Ige,Ico,Ival,Ihex,Ieva"
   ]
  },
  {
   "cell_type": "code",
   "execution_count": 31,
   "id": "622e1f16",
   "metadata": {
    "scrolled": false
   },
   "outputs": [
    {
     "data": {
      "image/png": "[encoded data removed]",
      "text/plain": [
       "<Figure size 432x288 with 1 Axes>"
      ]
     },
     "metadata": {},
     "output_type": "display_data"
    }
   ],
   "source": [
    "rowD= [Iab,Ige,Ico,Ival,Ihex,Ieva]\n",
    "row_D = ['Absorbedor','Generador','Condensador','Válvulas','I.C.','Evaporador']\n",
    "data4 = rowD\n",
    "plt.pie(data4, labels = row_D,autopct=\"%0.1f %%\") \n",
    "plt.title(\"Resultados de aportación de irreversibilidad por componentes\")\n",
    "plt.show()"
   ]
  }
 ],
 "metadata": {
  "kernelspec": {
   "display_name": "Python 3 (ipykernel)",
   "language": "python",
   "name": "python3"
  },
  "language_info": {
   "codemirror_mode": {
    "name": "ipython",
    "version": 3
   },
   "file_extension": ".py",
   "mimetype": "text/x-python",
   "name": "python",
   "nbconvert_exporter": "python",
   "pygments_lexer": "ipython3",
   "version": "3.7.13"
  }
 },
 "nbformat": 4,
 "nbformat_minor": 5
}
