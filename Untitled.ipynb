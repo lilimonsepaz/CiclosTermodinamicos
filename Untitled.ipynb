{
 "cells": [
  {
   "cell_type": "code",
   "execution_count": 1,
   "id": "ccbd4985",
   "metadata": {},
   "outputs": [],
   "source": [
    "import glob\n",
    "from tabulate import tabulate\n",
    "from skimage import io\n",
    "import pandas as pd\n",
    "import numpy as np\n",
    "import matplotlib.pyplot as plt\n",
    "import CoolProp.CoolProp as CP\n",
    "from CoolProp.CoolProp import PropsSI\n",
    "from CoolProp.Plots import PropertyPlot\n",
    "from pyXSteam.XSteam import XSteam\n",
    "steamTable = XSteam(XSteam.UNIT_SYSTEM_MKS)"
   ]
  },
  {
   "cell_type": "code",
   "execution_count": 2,
   "id": "6f18428a",
   "metadata": {},
   "outputs": [
    {
     "name": "stdout",
     "output_type": "stream",
     "text": [
      "***********************************************************************************\n",
      "*************** HEOS::R124 ************************\n",
      "***********************************************************************************\n",
      "1-phase took 0.052847862243652344 s for PT\n",
      "1-phase took 0.10783791542053223 s for DmolarT\n",
      "2-phase took 0.12812113761901855 s for DmolarT\n",
      "1-phase took 0.7536380290985107 s for HmolarP\n",
      "2-phase took 0.4965190887451172 s for HmolarP\n",
      "1-phase took 1.146496057510376 s for PSmolar\n",
      "2-phase took 0.9336938858032227 s for PSmolar\n",
      "1-phase took 2.031294107437134 s for SmolarT\n",
      "2-phase took 0.18594837188720703 s for SmolarT\n",
      "1-phase took 0.23383498191833496 s for PUmolar\n",
      "2-phase took 0.14118194580078125 s for PUmolar\n",
      "1-phase took 0.4374711513519287 s for DmolarP\n",
      "2-phase took 0.13519787788391113 s for DmolarP\n",
      "1-phase took 0.3708839416503906 s for DmolarHmolar\n",
      "2-phase took 0.3936638832092285 s for DmolarHmolar\n",
      "1-phase took 0.5198369026184082 s for DmolarSmolar\n",
      "2-phase took 0.34139108657836914 s for DmolarSmolar\n",
      "1-phase took 0.2473921775817871 s for DmolarUmolar\n",
      "2-phase took 0.36542201042175293 s for DmolarUmolar\n",
      "1-phase took 7.613929033279419 s for HmolarSmolar\n",
      "2-phase took 2.295987844467163 s for HmolarSmolar\n"
     ]
    }
   ],
   "source": [
    "from __future__ import division, print_function\n",
    "import matplotlib\n",
    "matplotlib.use('Agg') #Force mpl to use a non-GUI backend\n",
    "\n",
    "import matplotlib.pyplot as plt\n",
    "from CoolProp.Plots.ConsistencyPlots import ConsistencyFigure\n",
    "\n",
    "ff = ConsistencyFigure('R124')\n",
    "ff.savefig('R124.png', dpi = 30)\n",
    "ff.savefig('R124.pdf')\n",
    "plt.close()\n",
    "del ff"
   ]
  },
  {
   "cell_type": "code",
   "execution_count": 34,
   "id": "603e6ce0",
   "metadata": {},
   "outputs": [
    {
     "ename": "TypeError",
     "evalue": "'module' object is not callable",
     "output_type": "error",
     "traceback": [
      "\u001b[0;31m---------------------------------------------------------------------------\u001b[0m",
      "\u001b[0;31mTypeError\u001b[0m                                 Traceback (most recent call last)",
      "\u001b[0;32m/var/folders/7c/mp3x_xn118g6zt9pk4_pn36w0000gn/T/ipykernel_4814/1993244163.py\u001b[0m in \u001b[0;36m<module>\u001b[0;34m\u001b[0m\n\u001b[1;32m     18\u001b[0m     \u001b[0mWcompresor\u001b[0m \u001b[0;34m=\u001b[0m \u001b[0mMassFlow\u001b[0m\u001b[0;34m*\u001b[0m \u001b[0;34m(\u001b[0m\u001b[0mH2\u001b[0m \u001b[0;34m-\u001b[0m \u001b[0mH1\u001b[0m\u001b[0;34m)\u001b[0m\u001b[0;34m\u001b[0m\u001b[0;34m\u001b[0m\u001b[0m\n\u001b[1;32m     19\u001b[0m     \u001b[0mCOP\u001b[0m \u001b[0;34m=\u001b[0m \u001b[0mQ_eva\u001b[0m\u001b[0;34m/\u001b[0m\u001b[0mWcompresor\u001b[0m\u001b[0;34m\u001b[0m\u001b[0;34m\u001b[0m\u001b[0m\n\u001b[0;32m---> 20\u001b[0;31m \u001b[0mplt\u001b[0m\u001b[0;34m(\u001b[0m\u001b[0mT1_c\u001b[0m\u001b[0;34m,\u001b[0m\u001b[0mCOP\u001b[0m\u001b[0;34m)\u001b[0m\u001b[0;34m\u001b[0m\u001b[0;34m\u001b[0m\u001b[0m\n\u001b[0m",
      "\u001b[0;31mTypeError\u001b[0m: 'module' object is not callable"
     ]
    }
   ],
   "source": [
    "\n",
    "for T1_c in range(1,5,15):\n",
    "    T3 = 30 + 273.15\n",
    "    T1 = T1_c + 273.15\n",
    "    Q_eva= 1000 #kwa\n",
    "    P3 = (CP.PropsSI('P','T',T3,'Q',0,'R134a'))\n",
    "    P1 = (CP.PropsSI('P','T',T1,'Q',1,'R134a'))\n",
    "    P2 = P3\n",
    "    P4 = P1\n",
    "    S3 = (CP.PropsSI('S','T',T3,'Q',0,'R134a'))\n",
    "    S1 = (CP.PropsSI('S','T',T1,'Q',1,'R134a'))\n",
    "    H3 = (CP.PropsSI('H','T',T3,'Q',0,'R134a'))\n",
    "    H1 = (CP.PropsSI('H','T',T1,'Q',1,'R134a'))\n",
    "    H4 = H3\n",
    "    S2s = S1\n",
    "    H2s = (CP.PropsSI('H','P',P2,'S',S2s,'R134a'))\n",
    "    MassFlow = Q_eva/(H1-H4)\n",
    "    H2 = ((H2s- H1)/0.8)+H1\n",
    "    Wcompresor = MassFlow* (H2 - H1)\n",
    "    COP = Q_eva/Wcompresor\n",
    "plt(T1_c,COP)"
   ]
  }
 ],
 "metadata": {
  "kernelspec": {
   "display_name": "Python 3 (ipykernel)",
   "language": "python",
   "name": "python3"
  },
  "language_info": {
   "codemirror_mode": {
    "name": "ipython",
    "version": 3
   },
   "file_extension": ".py",
   "mimetype": "text/x-python",
   "name": "python",
   "nbconvert_exporter": "python",
   "pygments_lexer": "ipython3",
   "version": "3.7.13"
  }
 },
 "nbformat": 4,
 "nbformat_minor": 5
}
