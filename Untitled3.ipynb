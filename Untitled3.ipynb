{
 "cells": [
  {
   "cell_type": "code",
   "execution_count": 1,
   "id": "c6623419",
   "metadata": {},
   "outputs": [],
   "source": [
    "import glob\n",
    "from tabulate import tabulate\n",
    "from skimage import io\n",
    "import pandas as pd\n",
    "import numpy as np\n",
    "import matplotlib.pyplot as plt\n",
    "import CoolProp.CoolProp as CP\n",
    "from CoolProp.CoolProp import PropsSI\n",
    "from CoolProp.Plots import PropertyPlot\n",
    "from pyXSteam.XSteam import XSteam\n",
    "steamTable = XSteam(XSteam.UNIT_SYSTEM_MKS)"
   ]
  },
  {
   "cell_type": "markdown",
   "id": "e507d0dc",
   "metadata": {},
   "source": [
    "# Ecuación 6"
   ]
  },
  {
   "cell_type": "code",
   "execution_count": 20,
   "id": "39ee4c80",
   "metadata": {
    "scrolled": true
   },
   "outputs": [],
   "source": [
    "To = 100 #K\n",
    "Po=2 #Mpa\n",
    "xi=0,0.1,0.2,0.3,0.4,0.5,0.6,0.7,0.8,0.9,1\n",
    "P=2\n",
    "T=[]\n",
    "n=[]\n",
    "m=[]\n",
    "ai = [0.322302E+01,-0.384206E+0,0.460965E-01,-0.378945E-02,0.135610E-03,0.487755E+0,-0.120108E+0,0.106154E-01,-0.533589E-03,0.78041E+1,-0.115941E+02,-0.523150E-01,+0.489596E+01,+0.421059E+01]\n",
    "mi = [0,0,0,0,0,1,1,1,2,4,5,5,6,13]\n",
    "ni = [0,1,2,3,4,0,1,2,3,0,0,1,0,1]\n",
    "I = [1,2,3,4,5,6,7,8,9,10,11,12,13,14,15,16,17]\n",
    "\n",
    "for x in xi:\n",
    "    for a in ai:\n",
    "        for m in mi:\n",
    "            for n in ni:\n",
    "                Tx = [To + (a*((1-x)**m))*((np.log(Po/P))**n) ]  \n",
    "                T.append(Tx)"
   ]
  },
  {
   "cell_type": "code",
   "execution_count": 3,
   "id": "5baa2645",
   "metadata": {},
   "outputs": [
    {
     "data": {
      "text/plain": [
       "27462711.19421304"
      ]
     },
     "execution_count": 3,
     "metadata": {},
     "output_type": "execute_result"
    }
   ],
   "source": [
    "S=np.sum(T)\n",
    "Tfpx = (S*100)-273.15\n",
    "Tfpx"
   ]
  },
  {
   "cell_type": "markdown",
   "id": "2899aafe",
   "metadata": {},
   "source": [
    "# Ecuación 9"
   ]
  },
  {
   "cell_type": "code",
   "execution_count": 21,
   "id": "069a9405",
   "metadata": {},
   "outputs": [],
   "source": [
    "hon = 100 #kJ/kg\n",
    "Ton = 273.16 \n",
    "xi=0,0.1,0.2,0.3,0.4,0.5,0.6,0.7,0.8,0.9,1\n",
    "Pn=2\n",
    "Hn=[]\n",
    "Ti=[]\n",
    "Tni = 99.615794, 100.0460965, 99.99621055, 100.00013561, 100.487755, 99.879892,100.0106154, 99.999466411, 107.8041, 88.4059, 99.947685, 104.89596\n",
    "ain = [-0.761080E+01,0.256905E+02,-0.247092E+03,0.325952E+03,-0.158854E+03,0.619084E+02,0.114314E+02,0.118157E+01,0.284179E+01,0.741609E+01,0.891844E+03,-0.161309E+04]\n",
    "mni = [0,0,0,0,0,0,1,1,2,3,5,5]\n",
    "nin = [1,4,8,9,12,14,0,1,1,3,3,4]\n",
    "#I = [1,2,3,4,5,6,7,8,9,10,11,12]\n",
    "for x in xi:\n",
    "    for a in ain:\n",
    "        for Ti in Tni:\n",
    "             for m in mni:\n",
    "                    for n in nin:\n",
    "                        H = hon + (a*((Ti/Ton)-1)**m)*(x**n) \n",
    "                        Hn.append(H)"
   ]
  },
  {
   "cell_type": "markdown",
   "id": "214f84b3",
   "metadata": {},
   "source": [
    "# Ecuación 10"
   ]
  },
  {
   "cell_type": "code",
   "execution_count": null,
   "id": "4e6bd3d1",
   "metadata": {},
   "outputs": [],
   "source": []
  },
  {
   "cell_type": "code",
   "execution_count": 5,
   "id": "5fc4a7b4",
   "metadata": {},
   "outputs": [
    {
     "data": {
      "text/plain": [
       "93.346181992"
      ]
     },
     "execution_count": 5,
     "metadata": {},
     "output_type": "execute_result"
    }
   ],
   "source": [
    "100+(-0.761080E+01*((99.615794/273.16)-1)**0)*(0.87426**1)"
   ]
  }
 ],
 "metadata": {
  "kernelspec": {
   "display_name": "Python 3 (ipykernel)",
   "language": "python",
   "name": "python3"
  },
  "language_info": {
   "codemirror_mode": {
    "name": "ipython",
    "version": 3
   },
   "file_extension": ".py",
   "mimetype": "text/x-python",
   "name": "python",
   "nbconvert_exporter": "python",
   "pygments_lexer": "ipython3",
   "version": "3.7.13"
  }
 },
 "nbformat": 4,
 "nbformat_minor": 5
}
