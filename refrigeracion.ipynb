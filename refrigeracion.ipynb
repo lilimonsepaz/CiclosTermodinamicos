{
 "cells": [
  {
   "cell_type": "code",
   "execution_count": 2,
   "id": "f838457c",
   "metadata": {},
   "outputs": [],
   "source": [
    "import glob\n",
    "from tabulate import tabulate\n",
    "from skimage import io\n",
    "import pandas as pd\n",
    "import numpy as np\n",
    "import matplotlib.pyplot as plt\n",
    "import CoolProp.CoolProp as CP\n",
    "from CoolProp.CoolProp import PropsSI\n",
    "from CoolProp.Plots import PropertyPlot\n",
    "from pyXSteam.XSteam import XSteam\n",
    "steamTable = XSteam(XSteam.UNIT_SYSTEM_MKS)"
   ]
  },
  {
   "cell_type": "markdown",
   "id": "b475b3c5",
   "metadata": {},
   "source": [
    "# Resultados primera ley"
   ]
  },
  {
   "cell_type": "markdown",
   "id": "63d00279",
   "metadata": {},
   "source": [
    "### R134A"
   ]
  },
  {
   "cell_type": "code",
   "execution_count": 43,
   "id": "89a29602",
   "metadata": {},
   "outputs": [
    {
     "data": {
      "text/plain": [
       "[2.7590433779652974,\n",
       " 3.1741801587059855,\n",
       " 3.684209462326115,\n",
       " 4.324689322758921,\n",
       " 5.151508469196628,\n",
       " 6.257830362024148,\n",
       " 7.811370704446352,\n",
       " 10.147592301373285,\n",
       " 14.049291639589475,\n",
       " 21.86494932673244,\n",
       " 45.33719466306256]"
      ]
     },
     "execution_count": 43,
     "metadata": {},
     "output_type": "execute_result"
    },
    {
     "data": {
      "image/png": "[encoded data removed]",
      "text/plain": [
       "<Figure size 432x288 with 1 Axes>"
      ]
     },
     "metadata": {
      "needs_background": "light"
     },
     "output_type": "display_data"
    }
   ],
   "source": [
    "COP1=[]\n",
    "temperaturab = []\n",
    "temperatura = [-25,-20,-15,-10,-5,0,5,10,15,20,25]\n",
    "for T1_c in temperatura:\n",
    "    T3 = 30 + 273.15\n",
    "    T1 = T1_c + 273.15\n",
    "    Q_eva= 1000 #kwa\n",
    "    S3 = (CP.PropsSI('S','T',T3,'Q',0,'R134a'))\n",
    "    P3 = (CP.PropsSI('P','T',T3,'Q',0,'R134a'))\n",
    "    P1 = (CP.PropsSI('P','T',T1,'Q',1,'R134a'))\n",
    "    P2 = P3\n",
    "    P4 = P1\n",
    "    S1 = (CP.PropsSI('S','T',T1,'Q',1,'R134a'))\n",
    "    H3 = (CP.PropsSI('H','T',T3,'Q',0,'R134a'))\n",
    "    H1 = (CP.PropsSI('H','T',T1,'Q',1,'R134a'))\n",
    "    H4 = H3\n",
    "    S2s = S1\n",
    "    H2s = (CP.PropsSI('H','P',P2,'S',S2s,'R134a'))\n",
    "    MassFlow = Q_eva/(H1-H4)\n",
    "    H2 = ((H2s- H1)/0.8)+H1\n",
    "    Wcompresor = MassFlow* (H2 - H1)\n",
    "    COP = Q_eva/Wcompresor\n",
    "    COP1.append(COP) \n",
    "    temperaturab.append(T1)\n",
    "plt.plot(temperaturab,COP1) \n",
    "\n",
    "COP1\n",
    "    "
   ]
  },
  {
   "cell_type": "markdown",
   "id": "1d84f857",
   "metadata": {},
   "source": [
    "### Ammonia"
   ]
  },
  {
   "cell_type": "code",
   "execution_count": 55,
   "id": "c75108c8",
   "metadata": {
    "scrolled": false
   },
   "outputs": [
    {
     "data": {
      "text/plain": [
       "([0.7496813846642711,\n",
       "  0.7506124659677297,\n",
       "  0.7502142865540053,\n",
       "  0.7495778586393969,\n",
       "  0.7486049001758134,\n",
       "  0.7470984757672754,\n",
       "  0.7445416771413976,\n",
       "  0.7381166904222007],\n",
       " [273.15, 343.15, 353.15, 363.15, 373.15, 383.15, 393.15, 403.15])"
      ]
     },
     "execution_count": 55,
     "metadata": {},
     "output_type": "execute_result"
    },
    {
     "data": {
      "image/png": "[encoded data removed]",
      "text/plain": [
       "<Figure size 432x288 with 1 Axes>"
      ]
     },
     "metadata": {
      "needs_background": "light"
     },
     "output_type": "display_data"
    }
   ],
   "source": [
    "COP2 = [] \n",
    "temperaturaa = []\n",
    "temperaturaA = [0,70,80,90,100,110,120,130]\n",
    "for T1_ca in temperaturaA:\n",
    "    T3A = 30 + 273.15\n",
    "    T1A =  T1_ca +273.15\n",
    "    Q_evaA= 1000#kwa\n",
    "    S3A = (CP.PropsSI('S','T',T3A,'Q',0,'Ammonia'))\n",
    "    P3A = (CP.PropsSI('P','T',T3A,'Q',0,'Ammonia'))\n",
    "    P1A = (CP.PropsSI('P','T',T1A,'Q',1,'Ammonia'))\n",
    "    P2A = P3A\n",
    "    P4A = P1A\n",
    "    S1A = (CP.PropsSI('S','T',T1A,'Q',1,'Ammonia'))\n",
    "    H3A = (CP.PropsSI('H','T',T3A,'Q',0,'Ammonia'))\n",
    "    H1A = (CP.PropsSI('H','T',T1A,'Q',1,'Ammonia'))\n",
    "    H4A = H3A\n",
    "    S2sa = S1\n",
    "    H2sa = (CP.PropsSI('H','P',P2A,'S',S2sa,'Ammonia'))\n",
    "    MassFlowA = Q_evaA/(H1A-H4A)\n",
    "    H2A = ((H2sa- H1A)/0.8)+H1A\n",
    "    WcompresorA = MassFlowA* (H1A - H2A)\n",
    "    COPA = Q_evaA/WcompresorA\n",
    "    COP2.append(COPA)\n",
    "    temperaturaa.append(T1A)\n",
    "\n",
    "plt.plot(temperaturaA,COP2)\n",
    "\n",
    "COP2,temperaturaa\n",
    "    "
   ]
  },
  {
   "cell_type": "code",
   "execution_count": null,
   "id": "6cb55c85",
   "metadata": {},
   "outputs": [],
   "source": []
  },
  {
   "cell_type": "markdown",
   "id": "b14b2b7e",
   "metadata": {},
   "source": [
    "### Dióxido de carbono"
   ]
  },
  {
   "cell_type": "code",
   "execution_count": 26,
   "id": "bb7bc24e",
   "metadata": {
    "scrolled": true
   },
   "outputs": [
    {
     "data": {
      "text/plain": [
       "[<matplotlib.lines.Line2D at 0x11e08bed0>]"
      ]
     },
     "execution_count": 26,
     "metadata": {},
     "output_type": "execute_result"
    },
    {
     "data": {
      "image/png": "[encoded data removed]",
      "text/plain": [
       "<Figure size 432x288 with 1 Axes>"
      ]
     },
     "metadata": {
      "needs_background": "light"
     },
     "output_type": "display_data"
    }
   ],
   "source": [
    "COP3 = [] \n",
    "temperaturac = []\n",
    "temperaturaD = [0,1,5,10,15]\n",
    "for T1_cD in temperaturaD:\n",
    "    T3D = 30 + 273.15\n",
    "    T1D = T1_cD + 273.15\n",
    "    Q_evaD = 10000#kwa\n",
    "    S3D = (CP.PropsSI('S','T',T3D,'Q',0,'CarbonDioxide'))\n",
    "    P3D = (CP.PropsSI('P','T',T3D,'Q',0,'CarbonDioxide'))\n",
    "    P1D = (CP.PropsSI('P','T',T1D,'Q',1,'CarbonDioxide'))\n",
    "    P2D = P3D\n",
    "    P4D = P1D\n",
    "    S1D = (CP.PropsSI('S','T',T1D,'Q',1,'CarbonDioxide'))\n",
    "    H3D = (CP.PropsSI('H','T',T3D,'Q',0,'CarbonDioxide'))\n",
    "    H1D = (CP.PropsSI('H','T',T1D,'Q',1,'CarbonDioxide'))\n",
    "    H4D = H3D\n",
    "    S2sd = S1D\n",
    "    H2sd = (CP.PropsSI('H','P',P2D,'S',S2sd,'CarbonDioxide'))\n",
    "    MassFlowD = Q_evaA/(H1D-H4D)\n",
    "    H2D = ((H2sd- H1D)/0.8)+H1D \n",
    "    WcompresorD = MassFlowD* (H2D - H1D)\n",
    "    COPD = Q_evaD/WcompresorD\n",
    "    COP3.append(COPD)\n",
    "    temperaturac.append(T1D)\n",
    "\n",
    "plt.plot(temperaturac,COP3)\n",
    "\n",
    "\n",
    "    "
   ]
  },
  {
   "cell_type": "markdown",
   "id": "7483e4fe",
   "metadata": {},
   "source": [
    "# Resultados segunda ley"
   ]
  },
  {
   "cell_type": "code",
   "execution_count": null,
   "id": "517f66f4",
   "metadata": {},
   "outputs": [],
   "source": []
  }
 ],
 "metadata": {
  "kernelspec": {
   "display_name": "Python 3 (ipykernel)",
   "language": "python",
   "name": "python3"
  },
  "language_info": {
   "codemirror_mode": {
    "name": "ipython",
    "version": 3
   },
   "file_extension": ".py",
   "mimetype": "text/x-python",
   "name": "python",
   "nbconvert_exporter": "python",
   "pygments_lexer": "ipython3",
   "version": "3.7.13"
  }
 },
 "nbformat": 4,
 "nbformat_minor": 5
}
