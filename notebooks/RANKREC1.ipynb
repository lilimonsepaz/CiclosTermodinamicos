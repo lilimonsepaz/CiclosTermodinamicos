{
 "cells": [
  {
   "cell_type": "code",
   "execution_count": 1,
   "id": "b1c4b82e",
   "metadata": {},
   "outputs": [],
   "source": [
    "import numpy\n",
    "from pyXSteam.XSteam import XSteam\n",
    "steamTable = XSteam(XSteam.UNIT_SYSTEM_MKS)"
   ]
  },
  {
   "cell_type": "markdown",
   "id": "c8c9604e",
   "metadata": {},
   "source": [
    "## Rankine con Recalentamiento"
   ]
  },
  {
   "cell_type": "code",
   "execution_count": 14,
   "id": "512323f9",
   "metadata": {},
   "outputs": [],
   "source": [
    "P1 = 0.1 # bar\n",
    "P6 = P1\n",
    "P2 = 150 #bar\n",
    "P3 = P2\n",
    "T3 = 600\n",
    "T5 = T3\n",
    "P5 = 40 # bar\n",
    "x6 = 0.896"
   ]
  },
  {
   "cell_type": "code",
   "execution_count": 13,
   "id": "bb1017f5",
   "metadata": {},
   "outputs": [
    {
     "data": {
      "text/plain": [
       "(2335.1111744075392, 7.368927061614932)"
      ]
     },
     "execution_count": 13,
     "metadata": {},
     "output_type": "execute_result"
    }
   ],
   "source": [
    "S_f_P6 = (steamTable.sL_p(P6))\n",
    "S_v_P6 = (steamTable.sV_p(P6))\n",
    "S_fg_P6 = S_v_P6 - S_f_P6\n",
    "S_P6 = S_f_P6 + (x6 * S_fg_P6)\n",
    "H_f_P6 = (steamTable.hL_p(P6))\n",
    "H_v_P6 = (steamTable.hV_p(P6))\n",
    "H_fg_P6 = H_v_P6 - H_f_P6\n",
    "H_P6 = H_f_P6 + (x6 * H_fg_P6)\n",
    "H_P6, S_P6"
   ]
  },
  {
   "cell_type": "code",
   "execution_count": 16,
   "id": "d5a6ad4f",
   "metadata": {},
   "outputs": [
    {
     "name": "stderr",
     "output_type": "stream",
     "text": [
      "Temperature value 873.150000 out of range\n"
     ]
    },
    {
     "data": {
      "text/plain": [
       "(7.368927061614932, 3673.5182077087857, nan)"
      ]
     },
     "execution_count": 16,
     "metadata": {},
     "output_type": "execute_result"
    }
   ],
   "source": [
    "P_5 = (steamTable.psat_t(T5))\n",
    "S_P5 = S_P6\n",
    "H_P5 = (steamTable.h_ps(P5,S_P5))\n",
    "S_P5, H_P5,P_5"
   ]
  }
 ],
 "metadata": {
  "kernelspec": {
   "display_name": "Python 3 (ipykernel)",
   "language": "python",
   "name": "python3"
  },
  "language_info": {
   "codemirror_mode": {
    "name": "ipython",
    "version": 3
   },
   "file_extension": ".py",
   "mimetype": "text/x-python",
   "name": "python",
   "nbconvert_exporter": "python",
   "pygments_lexer": "ipython3",
   "version": "3.7.12"
  }
 },
 "nbformat": 4,
 "nbformat_minor": 5
}
