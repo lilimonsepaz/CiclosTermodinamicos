{
 "cells": [
  {
   "cell_type": "code",
   "execution_count": 1,
   "id": "b0748927",
   "metadata": {
    "scrolled": true
   },
   "outputs": [],
   "source": [
    "import numpy\n",
    "from pyXSteam.XSteam import XSteam\n",
    "steamTable = XSteam(XSteam.UNIT_SYSTEM_MKS)"
   ]
  },
  {
   "cell_type": "markdown",
   "id": "a7a3eb44",
   "metadata": {},
   "source": [
    "## Unidades para XSteam\n",
    " ### m/kg/sec/°C/bar/W\n",
    "- steamTable = XSteam(XSteam.UNIT_SYSTEM_MKS)\n",
    "### ft/lb/sec/°F/psi/btu\n",
    "- steamTable = XSteam(XSteam.UNIT_SYSTEM_FLS) \n",
    "### m/kg/sec/K/MPa/W\n",
    "- steamTable = XSteam(XSteam.UNIT_SYSTEM_BARE) "
   ]
  },
  {
   "cell_type": "markdown",
   "id": "133dcb29",
   "metadata": {},
   "source": [
    "## Rankine Ideal Simple\n",
    "\n"
   ]
  },
  {
   "cell_type": "code",
   "execution_count": 2,
   "id": "e9f73cb7",
   "metadata": {},
   "outputs": [],
   "source": [
    "P4 = 0.75 #bar\n",
    "P1 = P4 \n",
    "T3 = 350 #ºC\n",
    "P2 = 30 #bar\n",
    "P3 = P2\n",
    "Flujo_mas = 50 #kg/s"
   ]
  },
  {
   "cell_type": "markdown",
   "id": "9a7ddf87",
   "metadata": {},
   "source": [
    "### Para Punto$_4$"
   ]
  },
  {
   "cell_type": "code",
   "execution_count": 3,
   "id": "62d5be83",
   "metadata": {},
   "outputs": [],
   "source": [
    "H_f_P4 = (steamTable.hL_p(P4))\n",
    "H_v_P4 = (steamTable.hV_p(P4))\n",
    "H_fg_P4 = H_v_P4 - H_f_P4\n",
    "S_P4 = (steamTable.s_pt(P3,T3))\n",
    "S_f_P4 = (steamTable.sL_p(P4))\n",
    "S_v_P4 = (steamTable.sV_p(P4))\n",
    "S_fg_P4 = S_v_P4 - S_f_P4\n",
    "x_P4 = (S_P4 - S_f_P4) / S_fg_P4\n",
    "H_P4 = H_f_P4 + (x_P4 * H_fg_P4)"
   ]
  },
  {
   "cell_type": "markdown",
   "id": "715a4a8b",
   "metadata": {},
   "source": [
    "### Para Punto$_1$"
   ]
  },
  {
   "cell_type": "code",
   "execution_count": 4,
   "id": "5b983152",
   "metadata": {},
   "outputs": [],
   "source": [
    "H_P1 = (steamTable.hL_p(P4))\n",
    "S_P1 = (steamTable.sL_p(P4))\n",
    "vL_P1 = (steamTable.vL_p(P4))"
   ]
  },
  {
   "cell_type": "markdown",
   "id": "5718722f",
   "metadata": {},
   "source": [
    "### Para Punto$_2$"
   ]
  },
  {
   "cell_type": "code",
   "execution_count": 5,
   "id": "19a8ed5f",
   "metadata": {},
   "outputs": [],
   "source": [
    "H_P2 = (steamTable.h_ps(P2,S_P1))\n",
    "vL_P2 = (steamTable.v_ps(P2,S_P1))"
   ]
  },
  {
   "cell_type": "markdown",
   "id": "be298348",
   "metadata": {},
   "source": [
    "### Para Punto$_3$"
   ]
  },
  {
   "cell_type": "code",
   "execution_count": 6,
   "id": "79a0b861",
   "metadata": {},
   "outputs": [],
   "source": [
    "H_P3 = (steamTable.h_pt(P3,T3))\n",
    "S_P3 = (steamTable.s_pt(P3,T3))\n",
    "v_P3 = (steamTable.v_pt(P3,T3))"
   ]
  },
  {
   "cell_type": "markdown",
   "id": "92382150",
   "metadata": {},
   "source": [
    "### Cálculo de Trabajo"
   ]
  },
  {
   "cell_type": "code",
   "execution_count": 7,
   "id": "3c3e8557",
   "metadata": {},
   "outputs": [
    {
     "data": {
      "text/plain": [
       "(2728.658693892298, 713.0324172124692, 3.033865679806132, 2018.664286077609)"
      ]
     },
     "execution_count": 7,
     "metadata": {},
     "output_type": "execute_result"
    }
   ],
   "source": [
    "Q_caldera = H_P3 - H_P2 #kJ/kg\n",
    "W_turbina = H_P3 - H_P4 #kJ/kg\n",
    "W_bomba = vL_P1 * (P2 - P1)*100 #kJ/kg\n",
    "Q_condensador = H_P4 - H_P1 #kJ/kg\n",
    "Q_caldera,W_turbina,W_bomba,Q_condensador"
   ]
  },
  {
   "cell_type": "markdown",
   "id": "f3fd2a87",
   "metadata": {},
   "source": [
    "### Cálculo de Potencias"
   ]
  },
  {
   "cell_type": "code",
   "execution_count": 8,
   "id": "92568edb",
   "metadata": {},
   "outputs": [
    {
     "data": {
      "text/plain": [
       "(136432.9346946149, 151.69328399030658)"
      ]
     },
     "execution_count": 8,
     "metadata": {},
     "output_type": "execute_result"
    }
   ],
   "source": [
    "Pot_Caldera = Flujo_mas * Q_caldera #kJ/s\n",
    "Pot_Bomba = Flujo_mas * W_bomba #kJ/s\n",
    "Pot_Caldera,Pot_Bomba"
   ]
  },
  {
   "cell_type": "markdown",
   "id": "c39a0837",
   "metadata": {},
   "source": [
    "### Eficiencias"
   ]
  },
  {
   "cell_type": "code",
   "execution_count": 9,
   "id": "bab03d9f",
   "metadata": {},
   "outputs": [
    {
     "data": {
      "text/plain": [
       "(0.26019905289141043, 0.260200571482938)"
      ]
     },
     "execution_count": 9,
     "metadata": {},
     "output_type": "execute_result"
    }
   ],
   "source": [
    "Ef = 1 - ((H_P4 - H_P1)/(H_P3 - H_P2))\n",
    "Ef2 = (W_turbina - W_bomba)/Q_caldera\n",
    "Ef,Ef2"
   ]
  }
 ],
 "metadata": {
  "kernelspec": {
   "display_name": "Python 3 (ipykernel)",
   "language": "python",
   "name": "python3"
  },
  "language_info": {
   "codemirror_mode": {
    "name": "ipython",
    "version": 3
   },
   "file_extension": ".py",
   "mimetype": "text/x-python",
   "name": "python",
   "nbconvert_exporter": "python",
   "pygments_lexer": "ipython3",
   "version": "3.7.12"
  }
 },
 "nbformat": 4,
 "nbformat_minor": 5
}
