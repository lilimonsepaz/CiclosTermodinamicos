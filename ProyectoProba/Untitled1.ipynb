{
 "cells": [
  {
   "cell_type": "code",
   "execution_count": 48,
   "id": "b75e3cb8",
   "metadata": {},
   "outputs": [],
   "source": [
    "# Tratamiento de datos\n",
    "# ==============================================================================\n",
    "import pandas as pd\n",
    "import numpy as np\n",
    "\n",
    "# Gráficos\n",
    "# ==============================================================================\n",
    "import matplotlib.pyplot as plt\n",
    "from matplotlib import style\n",
    "import seaborn as sns\n",
    "\n",
    "# Preprocesado y modelado\n",
    "# ==============================================================================\n",
    "from scipy.stats import pearsonr\n",
    "from sklearn.model_selection import train_test_split\n",
    "from sklearn.metrics import r2_score\n",
    "from sklearn.metrics import mean_squared_error\n",
    "import statsmodels.api as sm\n",
    "import statsmodels.formula.api as smf\n",
    "from statsmodels.stats.anova import anova_lm\n",
    "from scipy import stats\n",
    "\n",
    "# Configuración matplotlib\n",
    "# ==============================================================================\n",
    "plt.rcParams['image.cmap'] = \"bwr\"\n",
    "#plt.rcParams['figure.dpi'] = \"100\"\n",
    "plt.rcParams['savefig.bbox'] = \"tight\"\n",
    "style.use('ggplot') or plt.style.use('ggplot')\n",
    "\n",
    "# Configuración warnings\n",
    "# ==============================================================================\n",
    "import warnings\n",
    "warnings.filterwarnings('ignore')"
   ]
  },
  {
   "cell_type": "code",
   "execution_count": 61,
   "id": "84776c13",
   "metadata": {
    "scrolled": false
   },
   "outputs": [
    {
     "data": {
      "text/html": [
       "<div>\n",
       "<style scoped>\n",
       "    .dataframe tbody tr th:only-of-type {\n",
       "        vertical-align: middle;\n",
       "    }\n",
       "\n",
       "    .dataframe tbody tr th {\n",
       "        vertical-align: top;\n",
       "    }\n",
       "\n",
       "    .dataframe thead th {\n",
       "        text-align: right;\n",
       "    }\n",
       "</style>\n",
       "<table border=\"1\" class=\"dataframe\">\n",
       "  <thead>\n",
       "    <tr style=\"text-align: right;\">\n",
       "      <th></th>\n",
       "      <th>TinGEAB</th>\n",
       "      <th>TinEVAB</th>\n",
       "      <th>ToutABGE</th>\n",
       "      <th>TinABGE</th>\n",
       "      <th>ToutGECO</th>\n",
       "      <th>ToutGEAB</th>\n",
       "      <th>TinCO</th>\n",
       "      <th>ToutCO</th>\n",
       "      <th>TinEV</th>\n",
       "      <th>ToutEVAB</th>\n",
       "      <th>XinAB</th>\n",
       "      <th>XoutAB</th>\n",
       "      <th>XinGE</th>\n",
       "      <th>XoutGE</th>\n",
       "      <th>PAB</th>\n",
       "      <th>PGE</th>\n",
       "      <th>COP</th>\n",
       "    </tr>\n",
       "  </thead>\n",
       "  <tbody>\n",
       "    <tr>\n",
       "      <th>0</th>\n",
       "      <td>[81.35, 81.46, 81.66, 81.82, 82.1, 82.28, 82.4...</td>\n",
       "      <td>[75.02, 75.84, 76.13, 76.14, 76.15, 76.02, 75....</td>\n",
       "      <td>[85.32, 86.66, 86.39, 86.31, 86.52, 86.5, 86.9...</td>\n",
       "      <td>[83.16, 83.13, 82.96, 83.08, 83.06, 83.06, 83....</td>\n",
       "      <td>[81.35, 81.46, 81.66, 81.82, 82.1, 82.28, 82.4...</td>\n",
       "      <td>[77.03, 77.09, 77.16, 77.29, 77.4, 77.49, 77.5...</td>\n",
       "      <td>[41.79, 41.86, 41.89, 41.98, 42.05, 42.1, 42.1...</td>\n",
       "      <td>[28.67, 28.68, 28.69, 28.72, 28.76, 28.76, 28....</td>\n",
       "      <td>[68.62, 70.47, 72.03, 74.75, 75.29, 74.24, 71....</td>\n",
       "      <td>[75.02, 75.84, 76.13, 76.14, 76.15, 76.02, 75....</td>\n",
       "      <td>[52.39, 52.39, 52.39, 52.39, 52.39, 52.39, 52....</td>\n",
       "      <td>[51.08, 51.08, 51.08, 51.08, 51.08, 51.08, 51....</td>\n",
       "      <td>[51.08, 51.08, 51.08, 51.08, 51.08, 51.08, 51....</td>\n",
       "      <td>[53.49, 53.49, 53.49, 53.49, 53.49, 53.49, 53....</td>\n",
       "      <td>[10.0, 10.0, 10.0, 10.0, 10.0, 10.0, 10.0, 10....</td>\n",
       "      <td>[20.0, 20.0, 20.0, 20.0, 20.0, 20.0, 20.0, 20....</td>\n",
       "      <td>[0.39, 0.37, 0.37, 0.38, 0.38, 0.38, 0.38, 0.3...</td>\n",
       "    </tr>\n",
       "  </tbody>\n",
       "</table>\n",
       "</div>"
      ],
      "text/plain": [
       "                                             TinGEAB  \\\n",
       "0  [81.35, 81.46, 81.66, 81.82, 82.1, 82.28, 82.4...   \n",
       "\n",
       "                                             TinEVAB  \\\n",
       "0  [75.02, 75.84, 76.13, 76.14, 76.15, 76.02, 75....   \n",
       "\n",
       "                                            ToutABGE  \\\n",
       "0  [85.32, 86.66, 86.39, 86.31, 86.52, 86.5, 86.9...   \n",
       "\n",
       "                                             TinABGE  \\\n",
       "0  [83.16, 83.13, 82.96, 83.08, 83.06, 83.06, 83....   \n",
       "\n",
       "                                            ToutGECO  \\\n",
       "0  [81.35, 81.46, 81.66, 81.82, 82.1, 82.28, 82.4...   \n",
       "\n",
       "                                            ToutGEAB  \\\n",
       "0  [77.03, 77.09, 77.16, 77.29, 77.4, 77.49, 77.5...   \n",
       "\n",
       "                                               TinCO  \\\n",
       "0  [41.79, 41.86, 41.89, 41.98, 42.05, 42.1, 42.1...   \n",
       "\n",
       "                                              ToutCO  \\\n",
       "0  [28.67, 28.68, 28.69, 28.72, 28.76, 28.76, 28....   \n",
       "\n",
       "                                               TinEV  \\\n",
       "0  [68.62, 70.47, 72.03, 74.75, 75.29, 74.24, 71....   \n",
       "\n",
       "                                            ToutEVAB  \\\n",
       "0  [75.02, 75.84, 76.13, 76.14, 76.15, 76.02, 75....   \n",
       "\n",
       "                                               XinAB  \\\n",
       "0  [52.39, 52.39, 52.39, 52.39, 52.39, 52.39, 52....   \n",
       "\n",
       "                                              XoutAB  \\\n",
       "0  [51.08, 51.08, 51.08, 51.08, 51.08, 51.08, 51....   \n",
       "\n",
       "                                               XinGE  \\\n",
       "0  [51.08, 51.08, 51.08, 51.08, 51.08, 51.08, 51....   \n",
       "\n",
       "                                              XoutGE  \\\n",
       "0  [53.49, 53.49, 53.49, 53.49, 53.49, 53.49, 53....   \n",
       "\n",
       "                                                 PAB  \\\n",
       "0  [10.0, 10.0, 10.0, 10.0, 10.0, 10.0, 10.0, 10....   \n",
       "\n",
       "                                                 PGE  \\\n",
       "0  [20.0, 20.0, 20.0, 20.0, 20.0, 20.0, 20.0, 20....   \n",
       "\n",
       "                                                 COP  \n",
       "0  [0.39, 0.37, 0.37, 0.38, 0.38, 0.38, 0.38, 0.3...  "
      ]
     },
     "execution_count": 61,
     "metadata": {},
     "output_type": "execute_result"
    }
   ],
   "source": [
    "Variables = np.genfromtxt(fname='variables.txt')\n",
    "COP = np.genfromtxt(fname='COP.txt')\n",
    "TinGEAB = Variables[0,:]\n",
    "TinEVAB = Variables[1,:] \n",
    "ToutABGE = Variables[2,:] \n",
    "TinABGE = Variables[3,:] \n",
    "ToutGECO = Variables[4,:] \n",
    "ToutGEAB = Variables[5,:] \n",
    "TinCO = Variables[6,:]\n",
    "ToutCO = Variables[7,:] \n",
    "TinEV = Variables[8,:]\n",
    "ToutEVAB = Variables[9,:] \n",
    "XinAB = Variables[10,:]\n",
    "XoutAB = Variables[11,:]\n",
    "XinGE = Variables[12,:]\n",
    "XoutGE = Variables[13,:] \n",
    "PAB = Variables[14,:]\n",
    "PGE = Variables[15,:]\n",
    "data = {'TinGEAB': Variables[0,:],'TinEVAB' : Variables[1,:],'ToutABGE' : Variables[2,:],'TinABGE' : Variables[3,:],'ToutGECO' : Variables[4,:],'ToutGEAB' : Variables[5,:], 'TinCO' : Variables[6,:], 'ToutCO': Variables[7,:], 'TinEV' : Variables[8,:],'ToutEVAB' : Variables[9,:],'XinAB' : Variables[10,:],'XoutAB' : Variables[11,:],'XinGE' : Variables[12,:],'XoutGE' : Variables[13,:] ,'PAB' :Variables[14,:],'PGE' : Variables[15,:] ,'COP':COP }\n",
    "datos = pd.DataFrame([data])\n",
    "datas = {'TinGEAB': np.transpose(Variables[0,:]),'COP':np.transpose(COP)}\n",
    "datas2 = pd.DataFrame([datas])\n",
    "datos"
   ]
  },
  {
   "cell_type": "code",
   "execution_count": 76,
   "id": "385d165f",
   "metadata": {},
   "outputs": [
    {
     "data": {
      "text/plain": [
       "828.968061095019"
      ]
     },
     "execution_count": 76,
     "metadata": {},
     "output_type": "execute_result"
    }
   ],
   "source": []
  },
  {
   "cell_type": "code",
   "execution_count": 75,
   "id": "c9ecded6",
   "metadata": {},
   "outputs": [
    {
     "data": {
      "text/plain": [
       "array([[1.        , 0.07633457],\n",
       "       [0.07633457, 1.        ]])"
      ]
     },
     "execution_count": 75,
     "metadata": {},
     "output_type": "execute_result"
    }
   ],
   "source": [
    "matrix = np.corrcoef(Variables[2,:], COP)\n",
    "matrix"
   ]
  },
  {
   "cell_type": "code",
   "execution_count": 45,
   "id": "f2f3700c",
   "metadata": {},
   "outputs": [
    {
     "data": {
      "text/plain": [
       "array([[1.       , 0.0020513],\n",
       "       [0.0020513, 1.       ]])"
      ]
     },
     "execution_count": 45,
     "metadata": {},
     "output_type": "execute_result"
    }
   ],
   "source": [
    "my_rho = np.corrcoef(Variables[0,:], COP)\n",
    "my_rho"
   ]
  },
  {
   "cell_type": "code",
   "execution_count": 46,
   "id": "88c96555",
   "metadata": {},
   "outputs": [
    {
     "data": {
      "text/html": [
       "<div>\n",
       "<style scoped>\n",
       "    .dataframe tbody tr th:only-of-type {\n",
       "        vertical-align: middle;\n",
       "    }\n",
       "\n",
       "    .dataframe tbody tr th {\n",
       "        vertical-align: top;\n",
       "    }\n",
       "\n",
       "    .dataframe thead th {\n",
       "        text-align: right;\n",
       "    }\n",
       "</style>\n",
       "<table border=\"1\" class=\"dataframe\">\n",
       "  <thead>\n",
       "    <tr style=\"text-align: right;\">\n",
       "      <th></th>\n",
       "      <th>TinGEAB</th>\n",
       "      <th>COP</th>\n",
       "      <th>r</th>\n",
       "      <th>abs_r</th>\n",
       "    </tr>\n",
       "  </thead>\n",
       "  <tbody>\n",
       "  </tbody>\n",
       "</table>\n",
       "</div>"
      ],
      "text/plain": [
       "Empty DataFrame\n",
       "Columns: [TinGEAB, COP, r, abs_r]\n",
       "Index: []"
      ]
     },
     "execution_count": 46,
     "metadata": {},
     "output_type": "execute_result"
    }
   ],
   "source": [
    "def tidy_corr_matrix(corr_mat):\n",
    "    '''\n",
    "    Función para convertir una matriz de correlación de pandas en formato tidy\n",
    "    '''\n",
    "    corr_mat = corr_mat.stack().reset_index()\n",
    "    corr_mat.columns = ['TinGEAB','COP','r']\n",
    "    corr_mat = corr_mat.loc[corr_mat['TinGEAB'] != corr_mat['COP'], :]\n",
    "    corr_mat['abs_r'] = np.abs(corr_mat['r'])\n",
    "    corr_mat = corr_mat.sort_values('abs_r', ascending=False)\n",
    "    \n",
    "    return(corr_mat)\n",
    "\n",
    "\n",
    "\n",
    "corr_matrix = datos.select_dtypes(include=['float64', 'int']).corr(method='pearson')\n",
    "tidy_corr_matrix(corr_matrix).head(10)"
   ]
  },
  {
   "cell_type": "code",
   "execution_count": 38,
   "id": "f935f96b",
   "metadata": {},
   "outputs": [
    {
     "data": {
      "text/html": [
       "<div>\n",
       "<style scoped>\n",
       "    .dataframe tbody tr th:only-of-type {\n",
       "        vertical-align: middle;\n",
       "    }\n",
       "\n",
       "    .dataframe tbody tr th {\n",
       "        vertical-align: top;\n",
       "    }\n",
       "\n",
       "    .dataframe thead th {\n",
       "        text-align: right;\n",
       "    }\n",
       "</style>\n",
       "<table border=\"1\" class=\"dataframe\">\n",
       "  <thead>\n",
       "    <tr style=\"text-align: right;\">\n",
       "      <th></th>\n",
       "      <th>variable_1</th>\n",
       "      <th>variable_2</th>\n",
       "      <th>r</th>\n",
       "      <th>abs_r</th>\n",
       "    </tr>\n",
       "  </thead>\n",
       "  <tbody>\n",
       "  </tbody>\n",
       "</table>\n",
       "</div>"
      ],
      "text/plain": [
       "Empty DataFrame\n",
       "Columns: [variable_1, variable_2, r, abs_r]\n",
       "Index: []"
      ]
     },
     "execution_count": 38,
     "metadata": {},
     "output_type": "execute_result"
    }
   ],
   "source": []
  },
  {
   "cell_type": "code",
   "execution_count": 34,
   "id": "7b8ddb3e",
   "metadata": {},
   "outputs": [
    {
     "data": {
      "text/html": [
       "<div>\n",
       "<style scoped>\n",
       "    .dataframe tbody tr th:only-of-type {\n",
       "        vertical-align: middle;\n",
       "    }\n",
       "\n",
       "    .dataframe tbody tr th {\n",
       "        vertical-align: top;\n",
       "    }\n",
       "\n",
       "    .dataframe thead th {\n",
       "        text-align: right;\n",
       "    }\n",
       "</style>\n",
       "<table border=\"1\" class=\"dataframe\">\n",
       "  <thead>\n",
       "    <tr style=\"text-align: right;\">\n",
       "      <th></th>\n",
       "      <th>COP</th>\n",
       "    </tr>\n",
       "  </thead>\n",
       "  <tbody>\n",
       "    <tr>\n",
       "      <th>0</th>\n",
       "      <td>0.39</td>\n",
       "    </tr>\n",
       "    <tr>\n",
       "      <th>1</th>\n",
       "      <td>0.37</td>\n",
       "    </tr>\n",
       "    <tr>\n",
       "      <th>2</th>\n",
       "      <td>0.37</td>\n",
       "    </tr>\n",
       "    <tr>\n",
       "      <th>3</th>\n",
       "      <td>0.38</td>\n",
       "    </tr>\n",
       "    <tr>\n",
       "      <th>4</th>\n",
       "      <td>0.38</td>\n",
       "    </tr>\n",
       "    <tr>\n",
       "      <th>...</th>\n",
       "      <td>...</td>\n",
       "    </tr>\n",
       "    <tr>\n",
       "      <th>6781</th>\n",
       "      <td>0.36</td>\n",
       "    </tr>\n",
       "    <tr>\n",
       "      <th>6782</th>\n",
       "      <td>0.35</td>\n",
       "    </tr>\n",
       "    <tr>\n",
       "      <th>6783</th>\n",
       "      <td>0.35</td>\n",
       "    </tr>\n",
       "    <tr>\n",
       "      <th>6784</th>\n",
       "      <td>0.35</td>\n",
       "    </tr>\n",
       "    <tr>\n",
       "      <th>6785</th>\n",
       "      <td>0.35</td>\n",
       "    </tr>\n",
       "  </tbody>\n",
       "</table>\n",
       "<p>6786 rows × 1 columns</p>\n",
       "</div>"
      ],
      "text/plain": [
       "       COP\n",
       "0     0.39\n",
       "1     0.37\n",
       "2     0.37\n",
       "3     0.38\n",
       "4     0.38\n",
       "...    ...\n",
       "6781  0.36\n",
       "6782  0.35\n",
       "6783  0.35\n",
       "6784  0.35\n",
       "6785  0.35\n",
       "\n",
       "[6786 rows x 1 columns]"
      ]
     },
     "execution_count": 34,
     "metadata": {},
     "output_type": "execute_result"
    }
   ],
   "source": [
    "Variables = np.genfromtxt(fname='variables.txt')\n",
    "Variables\n",
    "COP"
   ]
  }
 ],
 "metadata": {
  "kernelspec": {
   "display_name": "Python 3 (ipykernel)",
   "language": "python",
   "name": "python3"
  },
  "language_info": {
   "codemirror_mode": {
    "name": "ipython",
    "version": 3
   },
   "file_extension": ".py",
   "mimetype": "text/x-python",
   "name": "python",
   "nbconvert_exporter": "python",
   "pygments_lexer": "ipython3",
   "version": "3.7.12"
  }
 },
 "nbformat": 4,
 "nbformat_minor": 5
}
